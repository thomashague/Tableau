{
 "cells": [
  {
   "cell_type": "code",
   "execution_count": 25,
   "metadata": {
    "collapsed": true
   },
   "outputs": [],
   "source": [
    "import pandas as pd"
   ]
  },
  {
   "cell_type": "code",
   "execution_count": 26,
   "metadata": {
    "collapsed": true
   },
   "outputs": [],
   "source": [
    "# Name of the CSV file\n",
    "file = 'tripHistories/JC-201701-citibike-tripdata.csv'\n",
    "folder = 'tripHistories/'\n",
    "\n",
    "dates = ['201701', '201702','201703','201704','201705','201706','201707','201708','201709','201710','201711','201712']\n",
    "\n",
    "dataFrames = []"
   ]
  },
  {
   "cell_type": "code",
   "execution_count": 28,
   "metadata": {},
   "outputs": [],
   "source": [
    "#make the column names consistent and remove null rows\n",
    "for x in dates:\n",
    "    jc_file_name = 'JC-' + x + '-citibike-tripdata.csv'\n",
    "    file_name = x + '-citibike-tripdata.csv'\n",
    "    #read in the csv file\n",
    "    jc_df = pd.read_csv(folder + jc_file_name, encoding = \"ISO-8859-1\")\n",
    "    df = pd.read_csv(folder + file_name, encoding = \"ISO-8859-1\")\n",
    "    #make column names consistent\n",
    "    jc_df = jc_df.rename(columns={\"tripduration\":\"Trip Duration\", \"starttime\":\"Start Time\", \"stoptime\":\"Stop Time\", \"start station id\":\"Start Station ID\", \"start station name\":\"Start Station Name\", \"start station latitude\":\"Start Station Latitude\", \"start station longitude\":\"Start Station Longitude\", \"end station id\":\"End Station ID\", \"end station name\":\"End Station Name\", \"end station latitude\":\"End Station Latitude\", \"end station longitude\":\"End Station Longitude\", \"bikeid\":\"Bike ID\", \"usertype\":\"User Type\", \"birth year\":\"Birth Year\", \"gender\":\"Gender\"})\n",
    "    df = df.rename(columns={\"tripduration\":\"Trip Duration\", \"starttime\":\"Start Time\", \"stoptime\":\"Stop Time\", \"start station id\":\"Start Station ID\", \"start station name\":\"Start Station Name\", \"start station latitude\":\"Start Station Latitude\", \"start station longitude\":\"Start Station Longitude\", \"end station id\":\"End Station ID\", \"end station name\":\"End Station Name\", \"end station latitude\":\"End Station Latitude\", \"end station longitude\":\"End Station Longitude\", \"bikeid\":\"Bike ID\", \"usertype\":\"User Type\", \"birth year\":\"Birth Year\", \"gender\":\"Gender\"})\n",
    "    # Drop all rows with missing information\n",
    "    jc_df = jc_df.dropna(how='any')\n",
    "    df = df.dropna(how='any')\n",
    "    #save the dataframwe as a clean csv file\n",
    "    jc_df.to_csv(folder + 'clean_' + jc_file_name)\n",
    "    df.to_csv(folder + 'clean_' + file_name)\n",
    "\n",
    "\n",
    " "
   ]
  },
  {
   "cell_type": "code",
   "execution_count": null,
   "metadata": {
    "collapsed": true
   },
   "outputs": [],
   "source": []
  }
 ],
 "metadata": {
  "kernelspec": {
   "display_name": "Python [conda env:PythonData]",
   "language": "python",
   "name": "conda-env-PythonData-py"
  },
  "language_info": {
   "codemirror_mode": {
    "name": "ipython",
    "version": 3
   },
   "file_extension": ".py",
   "mimetype": "text/x-python",
   "name": "python",
   "nbconvert_exporter": "python",
   "pygments_lexer": "ipython3",
   "version": "3.6.3"
  }
 },
 "nbformat": 4,
 "nbformat_minor": 2
}
